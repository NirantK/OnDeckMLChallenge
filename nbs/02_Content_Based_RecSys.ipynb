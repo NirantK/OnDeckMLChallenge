{
 "cells": [
  {
   "cell_type": "markdown",
   "id": "22955432",
   "metadata": {},
   "source": [
    "# Brief Outline: Exploiting Movie-Movie Similarity\n",
    "\n",
    "## Movie Information\n",
    "\n",
    "### Vectorize Movie Information\n",
    "The movie information has a lot of text and numerical information.\n",
    "\n",
    "### Aggregate\n",
    "\n",
    "### Approximate Nearest Neighbour with Annoy Index\n",
    "\n",
    "## Use the movies a user has seen to predict most similar movies"
   ]
  },
  {
   "cell_type": "code",
   "execution_count": 12,
   "id": "9dcdf900",
   "metadata": {},
   "outputs": [],
   "source": [
    "# !pip install --upgrade torch"
   ]
  },
  {
   "cell_type": "code",
   "execution_count": 21,
   "id": "6e0b9673",
   "metadata": {},
   "outputs": [],
   "source": [
    "# !pip install sentence-transformers -qq"
   ]
  },
  {
   "cell_type": "code",
   "execution_count": 31,
   "id": "3f0e38ad",
   "metadata": {},
   "outputs": [],
   "source": [
    "import pickle\n",
    "import random\n",
    "from pathlib import Path\n",
    "from typing import List\n",
    "\n",
    "import numpy as np\n",
    "import pandas as pd\n",
    "import torch\n",
    "from annoy import AnnoyIndex\n",
    "from sentence_transformers import SentenceTransformer\n",
    "from sklearn.metrics import mean_squared_error\n",
    "from tqdm import tqdm\n",
    "from transformers import AutoModel, AutoTokenizer, BertModel, BertTokenizer\n",
    "\n",
    "tqdm.pandas()"
   ]
  },
  {
   "cell_type": "code",
   "execution_count": 14,
   "id": "df6c51fd",
   "metadata": {},
   "outputs": [],
   "source": [
    "def read(ds: str, data_dir=Path(\"../data/ext/od-challenge\")):\n",
    "    with (data_dir / f\"{ds}.pickle\").open(\"rb\") as f:\n",
    "        df = pickle.load(f)\n",
    "    return df\n",
    "\n",
    "\n",
    "aggs = read(ds=\"aggs\")\n",
    "teams = read(ds=\"teams\")\n",
    "movies = read(ds=\"movies\")\n",
    "labels = read(ds=\"labels\")\n",
    "\n",
    "data_dir = Path(\"../data/intermediate/\")\n",
    "train, test = pd.read_csv(data_dir / \"train.csv\"), pd.read_csv(data_dir / \"test.csv\")"
   ]
  },
  {
   "cell_type": "code",
   "execution_count": 28,
   "id": "255cfa81",
   "metadata": {},
   "outputs": [],
   "source": [
    "# def write(df, ds, data_dir=Path(\"../data/intermediate\")):\n",
    "#     df.to_csv(data_dir / f\"{ds}.csv\", index=False)\n",
    "\n",
    "\n",
    "# write(aggs, ds=\"aggs\")\n",
    "# write(teams, ds=\"teams\")\n",
    "# write(movies, ds=\"movies\")\n",
    "# write(labels, ds=\"labels\")"
   ]
  },
  {
   "cell_type": "code",
   "execution_count": 17,
   "id": "99314c0b",
   "metadata": {},
   "outputs": [
    {
     "data": {
      "text/html": [
       "<div>\n",
       "<style scoped>\n",
       "    .dataframe tbody tr th:only-of-type {\n",
       "        vertical-align: middle;\n",
       "    }\n",
       "\n",
       "    .dataframe tbody tr th {\n",
       "        vertical-align: top;\n",
       "    }\n",
       "\n",
       "    .dataframe thead th {\n",
       "        text-align: right;\n",
       "    }\n",
       "</style>\n",
       "<table border=\"1\" class=\"dataframe\">\n",
       "  <thead>\n",
       "    <tr style=\"text-align: right;\">\n",
       "      <th></th>\n",
       "      <th>movie_id</th>\n",
       "      <th>title</th>\n",
       "      <th>genres</th>\n",
       "      <th>year</th>\n",
       "      <th>synopsis</th>\n",
       "    </tr>\n",
       "  </thead>\n",
       "  <tbody>\n",
       "    <tr>\n",
       "      <th>0</th>\n",
       "      <td>114709</td>\n",
       "      <td>Toy Story</td>\n",
       "      <td>{Comedy, Animation, Children, Fantasy, Adventure}</td>\n",
       "      <td>1995</td>\n",
       "      <td>A boy called Andy Davis (voice: John Morris) u...</td>\n",
       "    </tr>\n",
       "    <tr>\n",
       "      <th>1</th>\n",
       "      <td>113497</td>\n",
       "      <td>Jumanji</td>\n",
       "      <td>{Children, Fantasy, Adventure}</td>\n",
       "      <td>1995</td>\n",
       "      <td>The film begins in 1869 in the town of Brantfo...</td>\n",
       "    </tr>\n",
       "    <tr>\n",
       "      <th>2</th>\n",
       "      <td>113277</td>\n",
       "      <td>Heat</td>\n",
       "      <td>{Action, Crime, Thriller}</td>\n",
       "      <td>1995</td>\n",
       "      <td>An inbound Los Angeles Blue Line train pulls i...</td>\n",
       "    </tr>\n",
       "    <tr>\n",
       "      <th>3</th>\n",
       "      <td>114319</td>\n",
       "      <td>Sabrina</td>\n",
       "      <td>{Comedy, Romance}</td>\n",
       "      <td>1995</td>\n",
       "      <td>Sabrina Fairchild (Julia Ormond), is the Larra...</td>\n",
       "    </tr>\n",
       "    <tr>\n",
       "      <th>4</th>\n",
       "      <td>112302</td>\n",
       "      <td>Tom and Huck</td>\n",
       "      <td>{Children, Adventure}</td>\n",
       "      <td>1995</td>\n",
       "      <td>The film opens with Injun Joe (Eric Schweig) a...</td>\n",
       "    </tr>\n",
       "    <tr>\n",
       "      <th>...</th>\n",
       "      <td>...</td>\n",
       "      <td>...</td>\n",
       "      <td>...</td>\n",
       "      <td>...</td>\n",
       "      <td>...</td>\n",
       "    </tr>\n",
       "    <tr>\n",
       "      <th>4102</th>\n",
       "      <td>3606756</td>\n",
       "      <td>Incredibles 2</td>\n",
       "      <td>{Children, Animation, Action, Adventure}</td>\n",
       "      <td>2018</td>\n",
       "      <td>Agent Rick Dicker (Jonathan Banks) is intervie...</td>\n",
       "    </tr>\n",
       "    <tr>\n",
       "      <th>4103</th>\n",
       "      <td>5463162</td>\n",
       "      <td>Deadpool 2</td>\n",
       "      <td>{Comedy, Action, Sci-Fi}</td>\n",
       "      <td>2018</td>\n",
       "      <td>After successfully working as the mercenary De...</td>\n",
       "    </tr>\n",
       "    <tr>\n",
       "      <th>4104</th>\n",
       "      <td>3778644</td>\n",
       "      <td>Solo: A Star Wars Story</td>\n",
       "      <td>{Children, Action, Sci-Fi, Adventure}</td>\n",
       "      <td>2018</td>\n",
       "      <td>In this second 'Star Wars' stand-alone, spin-o...</td>\n",
       "    </tr>\n",
       "    <tr>\n",
       "      <th>4105</th>\n",
       "      <td>5095030</td>\n",
       "      <td>Ant-Man and the Wasp</td>\n",
       "      <td>{Comedy, Action, Sci-Fi, Fantasy, Adventure}</td>\n",
       "      <td>2018</td>\n",
       "      <td>The film opens in 1987 as Hank Pym (Michael Do...</td>\n",
       "    </tr>\n",
       "    <tr>\n",
       "      <th>4106</th>\n",
       "      <td>4912910</td>\n",
       "      <td>Mission: Impossible - Fallout</td>\n",
       "      <td>{Action, Thriller, Adventure}</td>\n",
       "      <td>2018</td>\n",
       "      <td>Following the capture of Solomon Lane, the rem...</td>\n",
       "    </tr>\n",
       "  </tbody>\n",
       "</table>\n",
       "<p>4107 rows × 5 columns</p>\n",
       "</div>"
      ],
      "text/plain": [
       "      movie_id                          title  \\\n",
       "0       114709                      Toy Story   \n",
       "1       113497                        Jumanji   \n",
       "2       113277                           Heat   \n",
       "3       114319                        Sabrina   \n",
       "4       112302                   Tom and Huck   \n",
       "...        ...                            ...   \n",
       "4102   3606756                  Incredibles 2   \n",
       "4103   5463162                     Deadpool 2   \n",
       "4104   3778644        Solo: A Star Wars Story   \n",
       "4105   5095030           Ant-Man and the Wasp   \n",
       "4106   4912910  Mission: Impossible - Fallout   \n",
       "\n",
       "                                                 genres  year  \\\n",
       "0     {Comedy, Animation, Children, Fantasy, Adventure}  1995   \n",
       "1                        {Children, Fantasy, Adventure}  1995   \n",
       "2                             {Action, Crime, Thriller}  1995   \n",
       "3                                     {Comedy, Romance}  1995   \n",
       "4                                 {Children, Adventure}  1995   \n",
       "...                                                 ...   ...   \n",
       "4102           {Children, Animation, Action, Adventure}  2018   \n",
       "4103                           {Comedy, Action, Sci-Fi}  2018   \n",
       "4104              {Children, Action, Sci-Fi, Adventure}  2018   \n",
       "4105       {Comedy, Action, Sci-Fi, Fantasy, Adventure}  2018   \n",
       "4106                      {Action, Thriller, Adventure}  2018   \n",
       "\n",
       "                                               synopsis  \n",
       "0     A boy called Andy Davis (voice: John Morris) u...  \n",
       "1     The film begins in 1869 in the town of Brantfo...  \n",
       "2     An inbound Los Angeles Blue Line train pulls i...  \n",
       "3     Sabrina Fairchild (Julia Ormond), is the Larra...  \n",
       "4     The film opens with Injun Joe (Eric Schweig) a...  \n",
       "...                                                 ...  \n",
       "4102  Agent Rick Dicker (Jonathan Banks) is intervie...  \n",
       "4103  After successfully working as the mercenary De...  \n",
       "4104  In this second 'Star Wars' stand-alone, spin-o...  \n",
       "4105  The film opens in 1987 as Hank Pym (Michael Do...  \n",
       "4106  Following the capture of Solomon Lane, the rem...  \n",
       "\n",
       "[4107 rows x 5 columns]"
      ]
     },
     "execution_count": 17,
     "metadata": {},
     "output_type": "execute_result"
    }
   ],
   "source": [
    "df = movies\n",
    "df"
   ]
  },
  {
   "cell_type": "code",
   "execution_count": 18,
   "id": "9d122e45",
   "metadata": {},
   "outputs": [],
   "source": [
    "description = []\n",
    "for row in df.iterrows():\n",
    "    info = row[1]\n",
    "    genres = list(info[\"genres\"])\n",
    "    genres = \", \".join(genres)\n",
    "    text = f\"The movie **{info['title']}** was released in {info['year']}. It was mainly known for the following genres: {genres}\"\n",
    "    description.append(text)\n",
    "\n",
    "df[\"description\"] = pd.Series(description)"
   ]
  },
  {
   "cell_type": "code",
   "execution_count": 22,
   "id": "3f7bead9",
   "metadata": {},
   "outputs": [],
   "source": [
    "model = SentenceTransformer('sentence-transformers/all-mpnet-base-v2')"
   ]
  },
  {
   "cell_type": "code",
   "execution_count": 47,
   "id": "3d3e32f6",
   "metadata": {},
   "outputs": [],
   "source": [
    "def get_description_index():\n",
    "    vector_dir = Path(\"../models/vector_index/\")\n",
    "    fname = \"description.ann\"\n",
    "    index_path = vector_dir / fname\n",
    "    sz = 768\n",
    "    if index_path.exists():\n",
    "        u = AnnoyIndex(sz, \"angular\")\n",
    "        u.load(str(index_path))  # super fast, will just mmap the file\n",
    "        return u\n",
    "    else:\n",
    "        embeddings = df.description.progress_apply(lambda x: model.encode(x))\n",
    "        # # takes about 10 minutes to run locally on a slow CPU\n",
    "\n",
    "        t = AnnoyIndex(f, \"angular\")  # Length of item vector that will be indexed\n",
    "        for i, vector in enumerate(embeddings):\n",
    "            t.add_item(i, vector)\n",
    "        t.build(len(embeddings) // 10)\n",
    "        t.save(str(index_path))\n",
    "        return t\n",
    "\n",
    "\n",
    "t = get_description_index()"
   ]
  },
  {
   "cell_type": "markdown",
   "id": "d12222ac",
   "metadata": {},
   "source": [
    "# Demo: Movie-Movie Recommendation"
   ]
  },
  {
   "cell_type": "code",
   "execution_count": 179,
   "id": "6a99363f",
   "metadata": {},
   "outputs": [
    {
     "name": "stdout",
     "output_type": "stream",
     "text": [
      "751     99253\n",
      "752    103956\n",
      "830     87050\n",
      "Name: movie_id, dtype: int64 [0.3303639888763428, 0.4755329191684723, 0.6874837875366211]\n"
     ]
    }
   ],
   "source": [
    "random.seed(37)\n",
    "idx = random.choice(movies.movie_id.tolist())\n",
    "\n",
    "\n",
    "def similar_movies(movie_id):\n",
    "    idx = movies[movies.movie_id == movie_id].index[0]\n",
    "    indices, distances = t.get_nns_by_item(idx, 4, include_distances=True)\n",
    "    return movies.loc[idx][\"description\"], movies.loc[indices][1:], distances[1:]\n",
    "\n",
    "\n",
    "input_movie, recommended_movies, distances = recommend_movie(idx)\n",
    "print(recommended_movies.movie_id, distances)\n",
    "# print(input_movie, \"\\n---------\\n\", recommended_movies)"
   ]
  },
  {
   "cell_type": "markdown",
   "id": "c1e6463c",
   "metadata": {},
   "source": [
    "Next, we use the movie-movie recommendation to recommend movies to our user - as per the original statement. \n",
    "In order to do this, we find movies similar to the movies the user has already seen and recommend those. \n",
    "\n",
    "The assumption is that there all users have liked (rating >= 3.5) atleast 2 movies, 1 each across train and test split. \n",
    "\n",
    "**Note on Hit Ratio**:\n",
    "> A hit is counted if any of the movies we recommend, is present in the movies the user rates in test."
   ]
  },
  {
   "cell_type": "code",
   "execution_count": 134,
   "id": "e337fd59",
   "metadata": {},
   "outputs": [
    {
     "data": {
      "text/plain": [
       "set()"
      ]
     },
     "execution_count": 134,
     "metadata": {},
     "output_type": "execute_result"
    }
   ],
   "source": [
    "set(test.user_id.unique()) - set(train.user_id.unique())"
   ]
  },
  {
   "cell_type": "code",
   "execution_count": 195,
   "id": "3837494f",
   "metadata": {
    "scrolled": false
   },
   "outputs": [
    {
     "name": "stderr",
     "output_type": "stream",
     "text": [
      "100%|████████████████████████████████████████████████████████████████████████████████| 608/608 [01:33<00:00,  6.50it/s]\n"
     ]
    },
    {
     "data": {
      "text/plain": [
       "0.31743421052631576"
      ]
     },
     "execution_count": 195,
     "metadata": {},
     "output_type": "execute_result"
    }
   ],
   "source": [
    "def user_hits(predicted_movies: List[int], seen_movies: List[int]):\n",
    "    return len(set(predicted_movies) & set(seen_movies)) > 0\n",
    "\n",
    "\n",
    "def get_seen_movies(test, user_id, threshold=3.0):\n",
    "    df = test[test.user_id == user_id]\n",
    "    seen_movies = []\n",
    "    for user_item_rating in df.iterrows():\n",
    "        if user_item_rating[1][\"rating\"] >= threshold:\n",
    "            seen_movies.append(user_item_rating[1][\"movie_id\"])\n",
    "    return seen_movies\n",
    "\n",
    "\n",
    "def recommend_movies(user_id, train, threshold=3.0, k=10):\n",
    "    train = train[train.user_id == user_id]\n",
    "#     train = train[train.rating >= threshold]\n",
    "    recommended_movies = []\n",
    "    for movie_id in train.movie_id:\n",
    "        _, movie_df, distances = similar_movies(movie_id)\n",
    "        movie_df[\"similarity\"] = [1 - d for d in distances]\n",
    "        recommended_movies.append(movie_df)\n",
    "    try:\n",
    "        recommended_movies = pd.concat(recommended_movies)\n",
    "    except ValueError:\n",
    "        return []\n",
    "\n",
    "    seen_movies = train.movie_id.unique()\n",
    "    recommended_movies[\"seen\"] = recommended_movies.movie_id.apply(\n",
    "        lambda x: x not in seen_movies\n",
    "    )\n",
    "    recommended_movies = recommended_movies[recommended_movies.seen]\n",
    "    recommended_movies[\"counts\"] = recommended_movies[\"movie_id\"].map(\n",
    "        recommended_movies[\"movie_id\"].value_counts()\n",
    "    )\n",
    "    recommended_movies.sort_values(\n",
    "        by=[\"similarity\"], inplace=True, ascending=False\n",
    "    )\n",
    "    return recommended_movies.movie_id.unique()[:k]\n",
    "\n",
    "\n",
    "def calc_hit_rate(split, train):\n",
    "    hits = []\n",
    "    for user_id in tqdm(split.user_id.unique()):\n",
    "        recommended_movies = recommend_movies(user_id=user_id, train=train)\n",
    "#         for mv in recommended_movies:\n",
    "#             print(movies[movies.movie_id == mv][[\"title\", \"year\", \"genres\"]])\n",
    "        seen_movies = get_seen_movies(split, user_id)\n",
    "\n",
    "#         print(\"-----------------\")\n",
    "#         for mv in seen_movies:\n",
    "#             print(movies[movies.movie_id==mv][[\"title\", \"genres\"]])\n",
    "#         print(\"##############\")\n",
    "        hits.append(\n",
    "            user_hits(predicted_movies=recommended_movies, seen_movies=seen_movies)\n",
    "        )\n",
    "\n",
    "    return sum(hits) / len(hits)\n",
    "\n",
    "\n",
    "calc_hit_rate(test, train)"
   ]
  },
  {
   "cell_type": "markdown",
   "id": "11c732da",
   "metadata": {},
   "source": [
    "## Synopsis Embedding Illustration"
   ]
  },
  {
   "cell_type": "code",
   "execution_count": 49,
   "id": "dffd5afe",
   "metadata": {},
   "outputs": [],
   "source": [
    "# class SynopsisProc:\n",
    "#     def __init__(self):\n",
    "#         self.tokenizer = BertTokenizer.from_pretrained(\"bert-base-uncased\")\n",
    "#         self.model = BertModel.from_pretrained(\"bert-base-uncased\")\n",
    "\n",
    "#     def embed(self, paragraphs):\n",
    "#         encoded_input = self.tokenizer(\n",
    "#             paragraphs, padding=True, truncation=True, return_tensors=\"pt\"\n",
    "#         )\n",
    "#         output = self.model(**encoded_input)\n",
    "#         embedding = output.pooler_output\n",
    "#         return embedding"
   ]
  },
  {
   "cell_type": "code",
   "execution_count": 78,
   "id": "b692db10",
   "metadata": {},
   "outputs": [],
   "source": [
    "# sp = SynopsisProc()"
   ]
  },
  {
   "cell_type": "code",
   "execution_count": 52,
   "id": "19644487",
   "metadata": {},
   "outputs": [],
   "source": [
    "# synopsis_embedding = df['synopsis'].progress_apply(lambda x: sp.embed(x))"
   ]
  }
 ],
 "metadata": {
  "kernelspec": {
   "display_name": "Python 3 (ipykernel)",
   "language": "python",
   "name": "python3"
  },
  "language_info": {
   "codemirror_mode": {
    "name": "ipython",
    "version": 3
   },
   "file_extension": ".py",
   "mimetype": "text/x-python",
   "name": "python",
   "nbconvert_exporter": "python",
   "pygments_lexer": "ipython3",
   "version": "3.8.11"
  }
 },
 "nbformat": 4,
 "nbformat_minor": 5
}
