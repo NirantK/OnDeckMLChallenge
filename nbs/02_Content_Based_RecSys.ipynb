{
 "cells": [
  {
   "cell_type": "markdown",
   "id": "22955432",
   "metadata": {},
   "source": [
    "# Brief Outline: Exploiting Movie-Movie Similarity\n",
    "\n",
    "## Movie Information\n",
    "\n",
    "### Vectorize Movie Information\n",
    "The movie information has a lot of text and numerical information.\n",
    "\n",
    "### Aggregate\n",
    "\n",
    "### Approximate Nearest Neighbour with Annoy Index\n",
    "\n",
    "## Use the movies a user has seen to predict most similar movies"
   ]
  },
  {
   "cell_type": "code",
   "execution_count": null,
   "id": "52008212",
   "metadata": {},
   "outputs": [],
   "source": [
    "!"
   ]
  },
  {
   "cell_type": "code",
   "execution_count": 1,
   "id": "3f0e38ad",
   "metadata": {},
   "outputs": [],
   "source": [
    "import pickle\n",
    "import random\n",
    "from pathlib import Path\n",
    "from typing import List\n",
    "\n",
    "import numpy as np\n",
    "import pandas as pd\n",
    "import torch\n",
    "from sklearn.metrics import mean_squared_error\n",
    "from sklearn.model_selection import train_test_split\n",
    "from tqdm.notebook import tqdm\n",
    "from transformers import AutoModel, AutoTokenizer, BertModel, BertTokenizer\n",
    "\n",
    "# import matplotlib.pyplot as plt\n",
    "# %matplotlib inline"
   ]
  },
  {
   "cell_type": "code",
   "execution_count": 2,
   "id": "df6c51fd",
   "metadata": {},
   "outputs": [],
   "source": [
    "def read(ds: str, data_dir=Path(\"../data/ext/od-challenge\")):\n",
    "    with (data_dir / f\"{ds}.pickle\").open(\"rb\") as f:\n",
    "        df = pickle.load(f)\n",
    "    return df\n",
    "\n",
    "\n",
    "aggs = read(ds=\"aggs\")\n",
    "teams = read(ds=\"teams\")\n",
    "movies = read(ds=\"movies\")\n",
    "labels = read(ds=\"labels\")\n",
    "\n",
    "data_dir = Path(\"../data/intermediate/\")\n",
    "train, test = pd.read_csv(data_dir / \"train.csv\"), pd.read_csv(data_dir / \"test.csv\")"
   ]
  },
  {
   "cell_type": "code",
   "execution_count": 3,
   "id": "99314c0b",
   "metadata": {},
   "outputs": [
    {
     "data": {
      "text/html": [
       "<div>\n",
       "<style scoped>\n",
       "    .dataframe tbody tr th:only-of-type {\n",
       "        vertical-align: middle;\n",
       "    }\n",
       "\n",
       "    .dataframe tbody tr th {\n",
       "        vertical-align: top;\n",
       "    }\n",
       "\n",
       "    .dataframe thead th {\n",
       "        text-align: right;\n",
       "    }\n",
       "</style>\n",
       "<table border=\"1\" class=\"dataframe\">\n",
       "  <thead>\n",
       "    <tr style=\"text-align: right;\">\n",
       "      <th></th>\n",
       "      <th>movie_id</th>\n",
       "      <th>title</th>\n",
       "      <th>genres</th>\n",
       "      <th>year</th>\n",
       "      <th>synopsis</th>\n",
       "    </tr>\n",
       "  </thead>\n",
       "  <tbody>\n",
       "    <tr>\n",
       "      <th>0</th>\n",
       "      <td>114709</td>\n",
       "      <td>Toy Story</td>\n",
       "      <td>{Fantasy, Adventure, Animation, Comedy, Children}</td>\n",
       "      <td>1995</td>\n",
       "      <td>A boy called Andy Davis (voice: John Morris) u...</td>\n",
       "    </tr>\n",
       "    <tr>\n",
       "      <th>1</th>\n",
       "      <td>113497</td>\n",
       "      <td>Jumanji</td>\n",
       "      <td>{Adventure, Fantasy, Children}</td>\n",
       "      <td>1995</td>\n",
       "      <td>The film begins in 1869 in the town of Brantfo...</td>\n",
       "    </tr>\n",
       "    <tr>\n",
       "      <th>2</th>\n",
       "      <td>113277</td>\n",
       "      <td>Heat</td>\n",
       "      <td>{Thriller, Crime, Action}</td>\n",
       "      <td>1995</td>\n",
       "      <td>An inbound Los Angeles Blue Line train pulls i...</td>\n",
       "    </tr>\n",
       "    <tr>\n",
       "      <th>3</th>\n",
       "      <td>114319</td>\n",
       "      <td>Sabrina</td>\n",
       "      <td>{Romance, Comedy}</td>\n",
       "      <td>1995</td>\n",
       "      <td>Sabrina Fairchild (Julia Ormond), is the Larra...</td>\n",
       "    </tr>\n",
       "    <tr>\n",
       "      <th>4</th>\n",
       "      <td>112302</td>\n",
       "      <td>Tom and Huck</td>\n",
       "      <td>{Adventure, Children}</td>\n",
       "      <td>1995</td>\n",
       "      <td>The film opens with Injun Joe (Eric Schweig) a...</td>\n",
       "    </tr>\n",
       "    <tr>\n",
       "      <th>...</th>\n",
       "      <td>...</td>\n",
       "      <td>...</td>\n",
       "      <td>...</td>\n",
       "      <td>...</td>\n",
       "      <td>...</td>\n",
       "    </tr>\n",
       "    <tr>\n",
       "      <th>4102</th>\n",
       "      <td>3606756</td>\n",
       "      <td>Incredibles 2</td>\n",
       "      <td>{Adventure, Action, Animation, Children}</td>\n",
       "      <td>2018</td>\n",
       "      <td>Agent Rick Dicker (Jonathan Banks) is intervie...</td>\n",
       "    </tr>\n",
       "    <tr>\n",
       "      <th>4103</th>\n",
       "      <td>5463162</td>\n",
       "      <td>Deadpool 2</td>\n",
       "      <td>{Comedy, Action, Sci-Fi}</td>\n",
       "      <td>2018</td>\n",
       "      <td>After successfully working as the mercenary De...</td>\n",
       "    </tr>\n",
       "    <tr>\n",
       "      <th>4104</th>\n",
       "      <td>3778644</td>\n",
       "      <td>Solo: A Star Wars Story</td>\n",
       "      <td>{Adventure, Action, Sci-Fi, Children}</td>\n",
       "      <td>2018</td>\n",
       "      <td>In this second 'Star Wars' stand-alone, spin-o...</td>\n",
       "    </tr>\n",
       "    <tr>\n",
       "      <th>4105</th>\n",
       "      <td>5095030</td>\n",
       "      <td>Ant-Man and the Wasp</td>\n",
       "      <td>{Fantasy, Sci-Fi, Adventure, Action, Comedy}</td>\n",
       "      <td>2018</td>\n",
       "      <td>The film opens in 1987 as Hank Pym (Michael Do...</td>\n",
       "    </tr>\n",
       "    <tr>\n",
       "      <th>4106</th>\n",
       "      <td>4912910</td>\n",
       "      <td>Mission: Impossible - Fallout</td>\n",
       "      <td>{Adventure, Thriller, Action}</td>\n",
       "      <td>2018</td>\n",
       "      <td>Following the capture of Solomon Lane, the rem...</td>\n",
       "    </tr>\n",
       "  </tbody>\n",
       "</table>\n",
       "<p>4107 rows × 5 columns</p>\n",
       "</div>"
      ],
      "text/plain": [
       "      movie_id                          title  \\\n",
       "0       114709                      Toy Story   \n",
       "1       113497                        Jumanji   \n",
       "2       113277                           Heat   \n",
       "3       114319                        Sabrina   \n",
       "4       112302                   Tom and Huck   \n",
       "...        ...                            ...   \n",
       "4102   3606756                  Incredibles 2   \n",
       "4103   5463162                     Deadpool 2   \n",
       "4104   3778644        Solo: A Star Wars Story   \n",
       "4105   5095030           Ant-Man and the Wasp   \n",
       "4106   4912910  Mission: Impossible - Fallout   \n",
       "\n",
       "                                                 genres  year  \\\n",
       "0     {Fantasy, Adventure, Animation, Comedy, Children}  1995   \n",
       "1                        {Adventure, Fantasy, Children}  1995   \n",
       "2                             {Thriller, Crime, Action}  1995   \n",
       "3                                     {Romance, Comedy}  1995   \n",
       "4                                 {Adventure, Children}  1995   \n",
       "...                                                 ...   ...   \n",
       "4102           {Adventure, Action, Animation, Children}  2018   \n",
       "4103                           {Comedy, Action, Sci-Fi}  2018   \n",
       "4104              {Adventure, Action, Sci-Fi, Children}  2018   \n",
       "4105       {Fantasy, Sci-Fi, Adventure, Action, Comedy}  2018   \n",
       "4106                      {Adventure, Thriller, Action}  2018   \n",
       "\n",
       "                                               synopsis  \n",
       "0     A boy called Andy Davis (voice: John Morris) u...  \n",
       "1     The film begins in 1869 in the town of Brantfo...  \n",
       "2     An inbound Los Angeles Blue Line train pulls i...  \n",
       "3     Sabrina Fairchild (Julia Ormond), is the Larra...  \n",
       "4     The film opens with Injun Joe (Eric Schweig) a...  \n",
       "...                                                 ...  \n",
       "4102  Agent Rick Dicker (Jonathan Banks) is intervie...  \n",
       "4103  After successfully working as the mercenary De...  \n",
       "4104  In this second 'Star Wars' stand-alone, spin-o...  \n",
       "4105  The film opens in 1987 as Hank Pym (Michael Do...  \n",
       "4106  Following the capture of Solomon Lane, the rem...  \n",
       "\n",
       "[4107 rows x 5 columns]"
      ]
     },
     "execution_count": 3,
     "metadata": {},
     "output_type": "execute_result"
    }
   ],
   "source": [
    "movies"
   ]
  },
  {
   "cell_type": "code",
   "execution_count": 4,
   "id": "9d122e45",
   "metadata": {},
   "outputs": [],
   "source": [
    "df = movies\n",
    "description = []\n",
    "for row in df.iterrows():\n",
    "    info = row[1]\n",
    "    genres = list(info[\"genres\"])\n",
    "    genres = \", \".join(genres)\n",
    "    text = f\"The movie **{info['title']}** was released in {info['year']}. It was mainly known for the following genres: {genres}\"\n",
    "    description.append(text)\n",
    "\n",
    "df[\"description\"] = pd.Series(description)"
   ]
  },
  {
   "cell_type": "code",
   "execution_count": 5,
   "id": "f7400880",
   "metadata": {},
   "outputs": [],
   "source": [
    "## Vectorize Sentence"
   ]
  },
  {
   "cell_type": "code",
   "execution_count": 8,
   "id": "097ed94f",
   "metadata": {},
   "outputs": [],
   "source": [
    "class SentenceProc:\n",
    "    def __init__(self):\n",
    "        self.tokenizer = AutoTokenizer.from_pretrained(\n",
    "            \"sentence-transformers/bert-base-nli-mean-tokens\"\n",
    "        )\n",
    "\n",
    "        self.model = AutoModel.from_pretrained(\n",
    "            \"sentence-transformers/bert-base-nli-mean-tokens\"\n",
    "        )\n",
    "\n",
    "    def mean_pooling(self, model_output, attention_mask):\n",
    "        # Mean Pooling - Take attention mask into account for correct averaging\n",
    "        token_embeddings = model_output[\n",
    "            0\n",
    "        ]  # First element of model_output contains all token embeddings\n",
    "        input_mask_expanded = (\n",
    "            attention_mask.unsqueeze(-1).expand(token_embeddings.size()).float()\n",
    "        )\n",
    "        return torch.sum(token_embeddings * input_mask_expanded, 1) / torch.clamp(\n",
    "            input_mask_expanded.sum(1), min=1e-9\n",
    "        )\n",
    "\n",
    "    def embed(self, sentences: List[str]):\n",
    "        encoded_input = self.tokenizer(\n",
    "            sentences, padding=True, return_tensors=\"pt\"\n",
    "        )\n",
    "\n",
    "        with torch.no_grad():\n",
    "            model_output = self.model(**encoded_input)\n",
    "\n",
    "        # Perform pooling. In this case, max pooling.\n",
    "        sentence_embeddings = self.mean_pooling(\n",
    "            model_output, encoded_input[\"attention_mask\"]\n",
    "        )\n",
    "        return sentence_embeddings\n",
    "\n",
    "\n",
    "sentences = [\"This is an example sentence\", \"Each sentence is converted\"]\n",
    "s = SentenceProc()"
   ]
  },
  {
   "cell_type": "code",
   "execution_count": null,
   "id": "be690ab2",
   "metadata": {},
   "outputs": [
    {
     "name": "stderr",
     "output_type": "stream",
     "text": [
      "Asking to truncate to max_length but no maximum length is provided and the model has no predefined maximum length. Default to no truncation.\n"
     ]
    }
   ],
   "source": [
    "%%time\n",
    "sentences = df.description.tolist()\n",
    "description_embeddings = s.embed(sentences)"
   ]
  },
  {
   "cell_type": "code",
   "execution_count": null,
   "id": "f5112a7b",
   "metadata": {},
   "outputs": [],
   "source": [
    "del(s)"
   ]
  },
  {
   "cell_type": "code",
   "execution_count": 36,
   "id": "85762520",
   "metadata": {
    "scrolled": true
   },
   "outputs": [],
   "source": [
    "# import tensorflow_hub as hub\n",
    "\n",
    "# embed = hub.load(\"https://tfhub.dev/google/universal-sentence-encoder/4\")\n",
    "# embeddings = embed([\n",
    "#     \"The quick brown fox jumps over the lazy dog.\",\n",
    "#     \"I am a sentence for which I would like to get its embedding\"])\n",
    "\n",
    "# print(embeddings)"
   ]
  },
  {
   "cell_type": "code",
   "execution_count": 61,
   "id": "dffd5afe",
   "metadata": {},
   "outputs": [],
   "source": [
    "class SynopsisProc:\n",
    "    def __init__(self):\n",
    "        self.tokenizer = BertTokenizer.from_pretrained(\"bert-base-uncased\")\n",
    "        self.model = BertModel.from_pretrained(\"bert-base-uncased\")\n",
    "\n",
    "    def embed(self, paragraphs):\n",
    "        encoded_input = self.tokenizer(\n",
    "            paragraphs, padding=True, truncation=True, return_tensors=\"pt\"\n",
    "        )\n",
    "        output = self.model(**encoded_input)\n",
    "        embedding = output.pooler_output\n",
    "        return embedding"
   ]
  },
  {
   "cell_type": "code",
   "execution_count": 62,
   "id": "b692db10",
   "metadata": {},
   "outputs": [
    {
     "name": "stderr",
     "output_type": "stream",
     "text": [
      "Some weights of the model checkpoint at bert-base-uncased were not used when initializing BertModel: ['cls.seq_relationship.weight', 'cls.seq_relationship.bias', 'cls.predictions.transform.LayerNorm.weight', 'cls.predictions.transform.LayerNorm.bias', 'cls.predictions.decoder.weight', 'cls.predictions.transform.dense.bias', 'cls.predictions.bias', 'cls.predictions.transform.dense.weight']\n",
      "- This IS expected if you are initializing BertModel from the checkpoint of a model trained on another task or with another architecture (e.g. initializing a BertForSequenceClassification model from a BertForPreTraining model).\n",
      "- This IS NOT expected if you are initializing BertModel from the checkpoint of a model that you expect to be exactly identical (initializing a BertForSequenceClassification model from a BertForSequenceClassification model).\n"
     ]
    }
   ],
   "source": [
    "sp = SynopsisProc()"
   ]
  },
  {
   "cell_type": "code",
   "execution_count": null,
   "id": "19644487",
   "metadata": {},
   "outputs": [],
   "source": [
    "%%time\n",
    "synopsis_embedding = sp.embed(df['synopsis'].tolist())"
   ]
  }
 ],
 "metadata": {
  "kernelspec": {
   "display_name": "Python 3 (ipykernel)",
   "language": "python",
   "name": "python3"
  },
  "language_info": {
   "codemirror_mode": {
    "name": "ipython",
    "version": 3
   },
   "file_extension": ".py",
   "mimetype": "text/x-python",
   "name": "python",
   "nbconvert_exporter": "python",
   "pygments_lexer": "ipython3",
   "version": "3.8.11"
  }
 },
 "nbformat": 4,
 "nbformat_minor": 5
}
