{
 "cells": [
  {
   "cell_type": "markdown",
   "id": "c4da933b",
   "metadata": {},
   "source": [
    "# Strong Baseline: SVD\n",
    "\n",
    "## Why SVD?\n",
    "\n",
    "1. SVD has competitive performance on the Movielens-100K in some [benchmarks](http://surpriselib.com/) - which is similar in some ways to the dataset for the ML Challenge\n",
    "2. It became more well known after being used by the Netflix RecSys Prize winners\n",
    "3. It's a pure collaborative filtering approach, not requiring any other information about the movie or the user.\n",
    "\n",
    "## Implementation\n",
    "I've chosen to use the SVD implementation from [Surprise](http://surpriselib.com/), a light-weight, scikit-inspired interface for matrix factorisation and clustering based [collaborative filtering approaches](https://surprise.readthedocs.io/en/stable/prediction_algorithms_package.html)\n",
    "\n",
    "# TODO\n",
    "- [ ] Standardise train and test splits\n",
    "- [ ] Switch to Random rating split instead of user split in the Popular Movies baseline\n",
    "- [ ] Implement hit rate\n",
    "- [ ] Measure hit rate on test set"
   ]
  },
  {
   "cell_type": "code",
   "execution_count": 1,
   "id": "8045d354",
   "metadata": {},
   "outputs": [],
   "source": [
    "# !pip install scikit-surprise\n",
    "# !pip install matplotlib"
   ]
  },
  {
   "cell_type": "code",
   "execution_count": 2,
   "id": "afe12bf7",
   "metadata": {},
   "outputs": [],
   "source": [
    "import pickle\n",
    "from pathlib import Path\n",
    "\n",
    "import numpy as np\n",
    "import pandas as pd\n",
    "from surprise import SVD, Dataset, Reader\n",
    "from surprise.model_selection import (GridSearchCV, cross_validate,\n",
    "                                      train_test_split)\n",
    "\n",
    "# import matplotlib.pyplot as plt\n",
    "# %matplotlib inline"
   ]
  },
  {
   "cell_type": "code",
   "execution_count": 3,
   "id": "26ed7171",
   "metadata": {},
   "outputs": [],
   "source": [
    "def read(ds: str, data_dir=Path(\"../data/ext/od-challenge\")):\n",
    "    with (data_dir / f\"{ds}.pickle\").open(\"rb\") as f:\n",
    "        df = pickle.load(f)\n",
    "    return df\n",
    "\n",
    "aggs = read(ds=\"aggs\")\n",
    "teams = read(ds=\"teams\")\n",
    "movies = read(ds=\"movies\")\n",
    "labels = read(ds=\"labels\")"
   ]
  },
  {
   "cell_type": "code",
   "execution_count": 4,
   "id": "e90cc317",
   "metadata": {},
   "outputs": [
    {
     "data": {
      "text/html": [
       "<div>\n",
       "<style scoped>\n",
       "    .dataframe tbody tr th:only-of-type {\n",
       "        vertical-align: middle;\n",
       "    }\n",
       "\n",
       "    .dataframe tbody tr th {\n",
       "        vertical-align: top;\n",
       "    }\n",
       "\n",
       "    .dataframe thead th {\n",
       "        text-align: right;\n",
       "    }\n",
       "</style>\n",
       "<table border=\"1\" class=\"dataframe\">\n",
       "  <thead>\n",
       "    <tr style=\"text-align: right;\">\n",
       "      <th></th>\n",
       "      <th>movie_id</th>\n",
       "      <th>user_id</th>\n",
       "      <th>rating</th>\n",
       "    </tr>\n",
       "  </thead>\n",
       "  <tbody>\n",
       "    <tr>\n",
       "      <th>1</th>\n",
       "      <td>116367</td>\n",
       "      <td>1</td>\n",
       "      <td>3.0</td>\n",
       "    </tr>\n",
       "    <tr>\n",
       "      <th>3</th>\n",
       "      <td>114287</td>\n",
       "      <td>1</td>\n",
       "      <td>5.0</td>\n",
       "    </tr>\n",
       "    <tr>\n",
       "      <th>4</th>\n",
       "      <td>109370</td>\n",
       "      <td>1</td>\n",
       "      <td>5.0</td>\n",
       "    </tr>\n",
       "    <tr>\n",
       "      <th>5</th>\n",
       "      <td>112851</td>\n",
       "      <td>1</td>\n",
       "      <td>5.0</td>\n",
       "    </tr>\n",
       "    <tr>\n",
       "      <th>6</th>\n",
       "      <td>112508</td>\n",
       "      <td>1</td>\n",
       "      <td>5.0</td>\n",
       "    </tr>\n",
       "  </tbody>\n",
       "</table>\n",
       "</div>"
      ],
      "text/plain": [
       "   movie_id  user_id  rating\n",
       "1    116367        1     3.0\n",
       "3    114287        1     5.0\n",
       "4    109370        1     5.0\n",
       "5    112851        1     5.0\n",
       "6    112508        1     5.0"
      ]
     },
     "execution_count": 4,
     "metadata": {},
     "output_type": "execute_result"
    }
   ],
   "source": [
    "labels.head()"
   ]
  },
  {
   "cell_type": "code",
   "execution_count": 5,
   "id": "0e2a87aa",
   "metadata": {},
   "outputs": [],
   "source": [
    "df = labels[[\"user_id\", \"movie_id\", \"rating\"]]\n",
    "reader = Reader(rating_scale=(0, 5))\n",
    "data = Dataset.load_from_df(df[[\"user_id\", \"movie_id\", \"rating\"]], reader)\n",
    "trainset, testset = train_test_split(data, test_size=0.25)"
   ]
  },
  {
   "cell_type": "code",
   "execution_count": null,
   "id": "2bd43a95",
   "metadata": {},
   "outputs": [],
   "source": [
    "%%time\n",
    "param_grid = {\n",
    "    \"n_epochs\": [15],\n",
    "    \"n_factors\": [100, 200, 300],\n",
    "    \"lr_all\": [0.01, 0.02, 0.03],\n",
    "    \"reg_all\": [0.4, 0.6],\n",
    "}\n",
    "gs = GridSearchCV(SVD, param_grid, measures=[\"rmse\"], cv=3)\n",
    "gs.fit(data)\n",
    "print(gs.best_score[\"rmse\"])\n",
    "# combination of parameters that gave the best RMSE score\n",
    "print(gs.best_params[\"rmse\"])"
   ]
  },
  {
   "cell_type": "code",
   "execution_count": null,
   "id": "69e853f5",
   "metadata": {},
   "outputs": [],
   "source": [
    "model = gs.best_estimator['rmse']\n",
    "model.fit(trainset)"
   ]
  },
  {
   "cell_type": "code",
   "execution_count": null,
   "id": "93f68042",
   "metadata": {},
   "outputs": [],
   "source": [
    "predictions = model.test(testset)"
   ]
  },
  {
   "cell_type": "code",
   "execution_count": null,
   "id": "485994c9",
   "metadata": {},
   "outputs": [],
   "source": [
    "predictions[0]"
   ]
  }
 ],
 "metadata": {
  "kernelspec": {
   "display_name": "Python 3 (ipykernel)",
   "language": "python",
   "name": "python3"
  },
  "language_info": {
   "codemirror_mode": {
    "name": "ipython",
    "version": 3
   },
   "file_extension": ".py",
   "mimetype": "text/x-python",
   "name": "python",
   "nbconvert_exporter": "python",
   "pygments_lexer": "ipython3",
   "version": "3.8.11"
  }
 },
 "nbformat": 4,
 "nbformat_minor": 5
}
