{
 "cells": [
  {
   "cell_type": "markdown",
   "id": "1b5a99f1",
   "metadata": {},
   "source": [
    "# Strong Baseline: SVD\n",
    "\n",
    "## Why SVD?\n",
    "\n",
    "1. SVD has competitive performance on the Movielens-100K in some [benchmarks](http://surpriselib.com/) - which is similar in some ways to the dataset for the ML Challenge\n",
    "2. It became more well known after being used by the Netflix RecSys Prize winners\n",
    "3. It's a pure collaborative filtering approach, not requiring any other information about the movie or the user.\n",
    "\n",
    "## Implementation\n",
    "I've chosen to use the SVD implementation from [Surprise](http://surpriselib.com/), a light-weight, scikit-inspired interface for matrix factorisation and clustering based [collaborative filtering approaches](https://surprise.readthedocs.io/en/stable/prediction_algorithms_package.html)"
   ]
  },
  {
   "cell_type": "code",
   "execution_count": 1,
   "id": "01073668",
   "metadata": {},
   "outputs": [
    {
     "name": "stdout",
     "output_type": "stream",
     "text": [
      "Requirement already satisfied: tqdm in /Users/nirantk/miniconda3/envs/ondeck/lib/python3.8/site-packages (4.62.3)\r\n"
     ]
    }
   ],
   "source": [
    "# !pip install scikit-surprise\n",
    "# !pip install matplotlib\n",
    "!pip install tqdm"
   ]
  },
  {
   "cell_type": "code",
   "execution_count": 2,
   "id": "d0cb939e",
   "metadata": {},
   "outputs": [],
   "source": [
    "import pickle\n",
    "import random\n",
    "from pathlib import Path\n",
    "from typing import List\n",
    "\n",
    "import numpy as np\n",
    "import pandas as pd\n",
    "from sklearn.metrics import mean_squared_error\n",
    "from surprise import SVD, Dataset, Reader\n",
    "from surprise.model_selection import (GridSearchCV, cross_validate,\n",
    "                                      train_test_split)\n",
    "from tqdm.notebook import tqdm\n",
    "\n",
    "# import matplotlib.pyplot as plt\n",
    "# %matplotlib inline"
   ]
  },
  {
   "cell_type": "code",
   "execution_count": 3,
   "id": "fe91dcf9",
   "metadata": {},
   "outputs": [],
   "source": [
    "def read(ds: str, data_dir=Path(\"../data/ext/od-challenge\")):\n",
    "    with (data_dir / f\"{ds}.pickle\").open(\"rb\") as f:\n",
    "        df = pickle.load(f)\n",
    "    return df\n",
    "\n",
    "\n",
    "aggs = read(ds=\"aggs\")\n",
    "teams = read(ds=\"teams\")\n",
    "movies = read(ds=\"movies\")\n",
    "labels = read(ds=\"labels\")\n",
    "\n",
    "data_dir = Path(\"../data/intermediate/\")\n",
    "train, test = pd.read_csv(data_dir / \"train.csv\"), pd.read_csv(data_dir / \"test.csv\")"
   ]
  },
  {
   "cell_type": "code",
   "execution_count": 4,
   "id": "fa15a743",
   "metadata": {},
   "outputs": [
    {
     "data": {
      "text/html": [
       "<div>\n",
       "<style scoped>\n",
       "    .dataframe tbody tr th:only-of-type {\n",
       "        vertical-align: middle;\n",
       "    }\n",
       "\n",
       "    .dataframe tbody tr th {\n",
       "        vertical-align: top;\n",
       "    }\n",
       "\n",
       "    .dataframe thead th {\n",
       "        text-align: right;\n",
       "    }\n",
       "</style>\n",
       "<table border=\"1\" class=\"dataframe\">\n",
       "  <thead>\n",
       "    <tr style=\"text-align: right;\">\n",
       "      <th></th>\n",
       "      <th>movie_id</th>\n",
       "      <th>user_id</th>\n",
       "      <th>rating</th>\n",
       "    </tr>\n",
       "  </thead>\n",
       "  <tbody>\n",
       "    <tr>\n",
       "      <th>1</th>\n",
       "      <td>116367</td>\n",
       "      <td>1</td>\n",
       "      <td>3.0</td>\n",
       "    </tr>\n",
       "    <tr>\n",
       "      <th>3</th>\n",
       "      <td>114287</td>\n",
       "      <td>1</td>\n",
       "      <td>5.0</td>\n",
       "    </tr>\n",
       "    <tr>\n",
       "      <th>4</th>\n",
       "      <td>109370</td>\n",
       "      <td>1</td>\n",
       "      <td>5.0</td>\n",
       "    </tr>\n",
       "    <tr>\n",
       "      <th>5</th>\n",
       "      <td>112851</td>\n",
       "      <td>1</td>\n",
       "      <td>5.0</td>\n",
       "    </tr>\n",
       "    <tr>\n",
       "      <th>6</th>\n",
       "      <td>112508</td>\n",
       "      <td>1</td>\n",
       "      <td>5.0</td>\n",
       "    </tr>\n",
       "  </tbody>\n",
       "</table>\n",
       "</div>"
      ],
      "text/plain": [
       "   movie_id  user_id  rating\n",
       "1    116367        1     3.0\n",
       "3    114287        1     5.0\n",
       "4    109370        1     5.0\n",
       "5    112851        1     5.0\n",
       "6    112508        1     5.0"
      ]
     },
     "execution_count": 4,
     "metadata": {},
     "output_type": "execute_result"
    }
   ],
   "source": [
    "labels.head()"
   ]
  },
  {
   "cell_type": "code",
   "execution_count": 5,
   "id": "d0af1be0",
   "metadata": {},
   "outputs": [],
   "source": [
    "headers = [\"user_id\", \"movie_id\", \"rating\"]\n",
    "df = train[headers]\n",
    "reader = Reader(rating_scale=(0, 5))\n",
    "data = Dataset.load_from_df(df[headers], reader)"
   ]
  },
  {
   "cell_type": "code",
   "execution_count": 6,
   "id": "bb89d96f",
   "metadata": {},
   "outputs": [],
   "source": [
    "run_grid_search = False"
   ]
  },
  {
   "cell_type": "code",
   "execution_count": 7,
   "id": "f7ca037e",
   "metadata": {},
   "outputs": [
    {
     "name": "stdout",
     "output_type": "stream",
     "text": [
      "CPU times: user 27 µs, sys: 22 µs, total: 49 µs\n",
      "Wall time: 52.9 µs\n"
     ]
    }
   ],
   "source": [
    "%%time\n",
    "if run_grid_search:\n",
    "    param_grid = {\n",
    "        \"n_epochs\": [10, 15],\n",
    "        \"n_factors\": [100, 200, 300],\n",
    "        \"lr_all\": [0.01, 0.02, 0.03],\n",
    "    }\n",
    "    gs = GridSearchCV(SVD, param_grid, measures=[\"rmse\"], cv=3)\n",
    "    gs.fit(data)\n",
    "    print(gs.best_score[\"rmse\"])\n",
    "    # combination of parameters that gave the best RMSE score\n",
    "    print(gs.best_params[\"rmse\"])\n",
    "    model = gs.best_estimator['rmse']\n",
    "else:\n",
    "    model = SVD(n_epochs=15, n_factors=100, lr_all=0.01)"
   ]
  },
  {
   "cell_type": "code",
   "execution_count": 8,
   "id": "c4c2254d",
   "metadata": {},
   "outputs": [
    {
     "data": {
      "text/plain": [
       "<surprise.prediction_algorithms.matrix_factorization.SVD at 0x7feaf7fc27f0>"
      ]
     },
     "execution_count": 8,
     "metadata": {},
     "output_type": "execute_result"
    }
   ],
   "source": [
    "model.fit(data.build_full_trainset())"
   ]
  },
  {
   "cell_type": "markdown",
   "id": "49aa1bde",
   "metadata": {},
   "source": [
    "# Measure RMSE on Test Split"
   ]
  },
  {
   "cell_type": "code",
   "execution_count": 9,
   "id": "9393ab50",
   "metadata": {},
   "outputs": [
    {
     "data": {
      "text/html": [
       "<div>\n",
       "<style scoped>\n",
       "    .dataframe tbody tr th:only-of-type {\n",
       "        vertical-align: middle;\n",
       "    }\n",
       "\n",
       "    .dataframe tbody tr th {\n",
       "        vertical-align: top;\n",
       "    }\n",
       "\n",
       "    .dataframe thead th {\n",
       "        text-align: right;\n",
       "    }\n",
       "</style>\n",
       "<table border=\"1\" class=\"dataframe\">\n",
       "  <thead>\n",
       "    <tr style=\"text-align: right;\">\n",
       "      <th></th>\n",
       "      <th>user_id</th>\n",
       "      <th>movie_id</th>\n",
       "      <th>rating</th>\n",
       "    </tr>\n",
       "  </thead>\n",
       "  <tbody>\n",
       "    <tr>\n",
       "      <th>0</th>\n",
       "      <td>383</td>\n",
       "      <td>52357</td>\n",
       "      <td>4.0</td>\n",
       "    </tr>\n",
       "    <tr>\n",
       "      <th>1</th>\n",
       "      <td>413</td>\n",
       "      <td>117998</td>\n",
       "      <td>5.0</td>\n",
       "    </tr>\n",
       "    <tr>\n",
       "      <th>2</th>\n",
       "      <td>441</td>\n",
       "      <td>101452</td>\n",
       "      <td>3.5</td>\n",
       "    </tr>\n",
       "    <tr>\n",
       "      <th>3</th>\n",
       "      <td>346</td>\n",
       "      <td>119488</td>\n",
       "      <td>3.5</td>\n",
       "    </tr>\n",
       "    <tr>\n",
       "      <th>4</th>\n",
       "      <td>24</td>\n",
       "      <td>80455</td>\n",
       "      <td>3.5</td>\n",
       "    </tr>\n",
       "    <tr>\n",
       "      <th>...</th>\n",
       "      <td>...</td>\n",
       "      <td>...</td>\n",
       "      <td>...</td>\n",
       "    </tr>\n",
       "    <tr>\n",
       "      <th>8443</th>\n",
       "      <td>437</td>\n",
       "      <td>115956</td>\n",
       "      <td>5.0</td>\n",
       "    </tr>\n",
       "    <tr>\n",
       "      <th>8444</th>\n",
       "      <td>462</td>\n",
       "      <td>78902</td>\n",
       "      <td>3.0</td>\n",
       "    </tr>\n",
       "    <tr>\n",
       "      <th>8445</th>\n",
       "      <td>352</td>\n",
       "      <td>1232829</td>\n",
       "      <td>2.0</td>\n",
       "    </tr>\n",
       "    <tr>\n",
       "      <th>8446</th>\n",
       "      <td>409</td>\n",
       "      <td>42451</td>\n",
       "      <td>2.0</td>\n",
       "    </tr>\n",
       "    <tr>\n",
       "      <th>8447</th>\n",
       "      <td>584</td>\n",
       "      <td>110357</td>\n",
       "      <td>5.0</td>\n",
       "    </tr>\n",
       "  </tbody>\n",
       "</table>\n",
       "<p>8448 rows × 3 columns</p>\n",
       "</div>"
      ],
      "text/plain": [
       "      user_id  movie_id  rating\n",
       "0         383     52357     4.0\n",
       "1         413    117998     5.0\n",
       "2         441    101452     3.5\n",
       "3         346    119488     3.5\n",
       "4          24     80455     3.5\n",
       "...       ...       ...     ...\n",
       "8443      437    115956     5.0\n",
       "8444      462     78902     3.0\n",
       "8445      352   1232829     2.0\n",
       "8446      409     42451     2.0\n",
       "8447      584    110357     5.0\n",
       "\n",
       "[8448 rows x 3 columns]"
      ]
     },
     "execution_count": 9,
     "metadata": {},
     "output_type": "execute_result"
    }
   ],
   "source": [
    "test[headers]"
   ]
  },
  {
   "cell_type": "code",
   "execution_count": 10,
   "id": "1f810e6f",
   "metadata": {},
   "outputs": [],
   "source": [
    "predicted_rating = []\n",
    "for element in test.iterrows():\n",
    "    iid = element[1]['movie_id']\n",
    "    uid = element[1]['user_id']\n",
    "    predicted_rating.append(model.predict(uid=float(uid), iid=iid).est)"
   ]
  },
  {
   "cell_type": "code",
   "execution_count": 11,
   "id": "ae1a4911",
   "metadata": {},
   "outputs": [],
   "source": [
    "real_rating = test.rating.tolist()"
   ]
  },
  {
   "cell_type": "code",
   "execution_count": 12,
   "id": "a8101777",
   "metadata": {},
   "outputs": [
    {
     "data": {
      "text/plain": [
       "0.9176016156056267"
      ]
     },
     "execution_count": 12,
     "metadata": {},
     "output_type": "execute_result"
    }
   ],
   "source": [
    "mse = mean_squared_error(y_true=real_rating, y_pred=predicted_rating)\n",
    "rmse = np.sqrt(mse)\n",
    "rmse"
   ]
  },
  {
   "cell_type": "markdown",
   "id": "ea0cdebc",
   "metadata": {},
   "source": [
    "# Measure Hit Rate on Test Split\n",
    "\n",
    "When is it counted as a hit? \n",
    "1. Candidates = user has not interacted with the movie in training split but has in the test split\n",
    "2. We recommend atleast one movie with rating higher that threshold from these candidates"
   ]
  },
  {
   "cell_type": "markdown",
   "id": "a34a505f",
   "metadata": {},
   "source": [
    "Assumption: Movie id is present in both train and test splits. If it is not, we don't have an elegant solution for that here. "
   ]
  },
  {
   "cell_type": "code",
   "execution_count": 13,
   "id": "f1666733",
   "metadata": {},
   "outputs": [],
   "source": [
    "def user_hits(predicted_movies: List[int], seen_movies: List[int]):\n",
    "    return len(set(predicted_movies) & set(seen_movies)) > 0\n",
    "\n",
    "\n",
    "def get_candidate_movies(train, test, user_id):\n",
    "    train_movies = set(train[train.user_id == user_id].movie_id.unique())\n",
    "    test_movies = set(test[test.user_id == user_id].movie_id.unique())\n",
    "    candidate_movies = test_movies - train_movies\n",
    "    return list(candidate_movies)\n",
    "\n",
    "\n",
    "def get_seen_movies(test, user_id, threshold=4.0):\n",
    "    df = test[test.user_id == user_id]\n",
    "    seen_movies = []\n",
    "    for user_item_rating in df.iterrows():\n",
    "        if user_item_rating[1][\"rating\"] >= threshold:\n",
    "            seen_movies.append(user_item_rating[1][\"movie_id\"])\n",
    "    return seen_movies\n",
    "\n",
    "\n",
    "def recommend_movies(candidate_movies: List, user_id, threshold=4.0, k=10):\n",
    "    recs = []\n",
    "    random.shuffle(candidate_movies)\n",
    "    for c in candidate_movies[:100]:\n",
    "        r_est = model.predict(uid=user_id, iid=c).est\n",
    "        if r_est >= threshold:\n",
    "            recs.append(c)\n",
    "        if len(recs) >= 10:\n",
    "            return recs\n",
    "    return recs\n",
    "\n",
    "\n",
    "def calc_hit_rate(split):\n",
    "    hits = []\n",
    "    for user_id in tqdm(split.user_id):\n",
    "        candidate_movies = get_candidate_movies(train, split, user_id)\n",
    "        recommended_movies = recommend_movies(\n",
    "            candidate_movies=candidate_movies, user_id=user_id\n",
    "        )\n",
    "        seen_movies = get_seen_movies(split, user_id)\n",
    "        hits.append(\n",
    "            user_hits(predicted_movies=recommended_movies, seen_movies=seen_movies)\n",
    "        )\n",
    "\n",
    "    return sum(hits) / len(hits)"
   ]
  },
  {
   "cell_type": "code",
   "execution_count": 14,
   "id": "d4a66005",
   "metadata": {},
   "outputs": [
    {
     "data": {
      "application/vnd.jupyter.widget-view+json": {
       "model_id": "fd3d5891ed3641bbb20c9fcf9f133f05",
       "version_major": 2,
       "version_minor": 0
      },
      "text/plain": [
       "  0%|          | 0/8448 [00:00<?, ?it/s]"
      ]
     },
     "metadata": {},
     "output_type": "display_data"
    },
    {
     "data": {
      "text/plain": [
       "0.6236979166666666"
      ]
     },
     "execution_count": 14,
     "metadata": {},
     "output_type": "execute_result"
    }
   ],
   "source": [
    "calc_hit_rate(test)"
   ]
  }
 ],
 "metadata": {
  "kernelspec": {
   "display_name": "Python 3 (ipykernel)",
   "language": "python",
   "name": "python3"
  },
  "language_info": {
   "codemirror_mode": {
    "name": "ipython",
    "version": 3
   },
   "file_extension": ".py",
   "mimetype": "text/x-python",
   "name": "python",
   "nbconvert_exporter": "python",
   "pygments_lexer": "ipython3",
   "version": "3.8.11"
  }
 },
 "nbformat": 4,
 "nbformat_minor": 5
}
